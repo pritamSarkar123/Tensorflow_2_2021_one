{
  "nbformat": 4,
  "nbformat_minor": 0,
  "metadata": {
    "colab": {
      "name": "Classification",
      "provenance": []
    },
    "kernelspec": {
      "name": "python3",
      "display_name": "Python 3"
    },
    "language_info": {
      "name": "python"
    }
  },
  "cells": [
    {
      "cell_type": "code",
      "metadata": {
        "id": "VcmDf0050opS"
      },
      "source": [
        "%tensorflow_version 2.x "
      ],
      "execution_count": 24,
      "outputs": []
    },
    {
      "cell_type": "code",
      "metadata": {
        "id": "WaIQmCGI0u1K"
      },
      "source": [
        "!pip install -q sklearn"
      ],
      "execution_count": 25,
      "outputs": []
    },
    {
      "cell_type": "code",
      "metadata": {
        "id": "cJWcnV8V0ygg"
      },
      "source": [
        "from __future__ import absolute_import, division, print_function, unicode_literals\n",
        "\n",
        "import tensorflow as tf\n",
        "\n",
        "import pandas as pd\n",
        "\n",
        "from IPython.display import clear_output\n"
      ],
      "execution_count": 26,
      "outputs": []
    },
    {
      "cell_type": "code",
      "metadata": {
        "id": "gwx74ZqJ1B3m"
      },
      "source": [
        "CSV_COLUMN_NAMES = ['SepalLength', 'SepalWidth', 'PetalLength', 'PetalWidth', 'Species']\n",
        "SPECIES = ['Setosa', 'Versicolor', 'Virginica']\n",
        "\n",
        "train_path = tf.keras.utils.get_file(\n",
        "    \"iris_training.csv\", \"https://storage.googleapis.com/download.tensorflow.org/data/iris_training.csv\")\n",
        "test_path = tf.keras.utils.get_file(\n",
        "    \"iris_test.csv\", \"https://storage.googleapis.com/download.tensorflow.org/data/iris_test.csv\")\n",
        "\n",
        "train = pd.read_csv(train_path, names=CSV_COLUMN_NAMES, header=0)\n",
        "test = pd.read_csv(test_path, names=CSV_COLUMN_NAMES, header=0)"
      ],
      "execution_count": 27,
      "outputs": []
    },
    {
      "cell_type": "code",
      "metadata": {
        "colab": {
          "base_uri": "https://localhost:8080/",
          "height": 204
        },
        "id": "0dl753-r2Ej3",
        "outputId": "91c24c05-9a99-4003-cf61-9e045efd1102"
      },
      "source": [
        "train.head()"
      ],
      "execution_count": 28,
      "outputs": [
        {
          "output_type": "execute_result",
          "data": {
            "text/html": [
              "<div>\n",
              "<style scoped>\n",
              "    .dataframe tbody tr th:only-of-type {\n",
              "        vertical-align: middle;\n",
              "    }\n",
              "\n",
              "    .dataframe tbody tr th {\n",
              "        vertical-align: top;\n",
              "    }\n",
              "\n",
              "    .dataframe thead th {\n",
              "        text-align: right;\n",
              "    }\n",
              "</style>\n",
              "<table border=\"1\" class=\"dataframe\">\n",
              "  <thead>\n",
              "    <tr style=\"text-align: right;\">\n",
              "      <th></th>\n",
              "      <th>SepalLength</th>\n",
              "      <th>SepalWidth</th>\n",
              "      <th>PetalLength</th>\n",
              "      <th>PetalWidth</th>\n",
              "      <th>Species</th>\n",
              "    </tr>\n",
              "  </thead>\n",
              "  <tbody>\n",
              "    <tr>\n",
              "      <th>0</th>\n",
              "      <td>6.4</td>\n",
              "      <td>2.8</td>\n",
              "      <td>5.6</td>\n",
              "      <td>2.2</td>\n",
              "      <td>2</td>\n",
              "    </tr>\n",
              "    <tr>\n",
              "      <th>1</th>\n",
              "      <td>5.0</td>\n",
              "      <td>2.3</td>\n",
              "      <td>3.3</td>\n",
              "      <td>1.0</td>\n",
              "      <td>1</td>\n",
              "    </tr>\n",
              "    <tr>\n",
              "      <th>2</th>\n",
              "      <td>4.9</td>\n",
              "      <td>2.5</td>\n",
              "      <td>4.5</td>\n",
              "      <td>1.7</td>\n",
              "      <td>2</td>\n",
              "    </tr>\n",
              "    <tr>\n",
              "      <th>3</th>\n",
              "      <td>4.9</td>\n",
              "      <td>3.1</td>\n",
              "      <td>1.5</td>\n",
              "      <td>0.1</td>\n",
              "      <td>0</td>\n",
              "    </tr>\n",
              "    <tr>\n",
              "      <th>4</th>\n",
              "      <td>5.7</td>\n",
              "      <td>3.8</td>\n",
              "      <td>1.7</td>\n",
              "      <td>0.3</td>\n",
              "      <td>0</td>\n",
              "    </tr>\n",
              "  </tbody>\n",
              "</table>\n",
              "</div>"
            ],
            "text/plain": [
              "   SepalLength  SepalWidth  PetalLength  PetalWidth  Species\n",
              "0          6.4         2.8          5.6         2.2        2\n",
              "1          5.0         2.3          3.3         1.0        1\n",
              "2          4.9         2.5          4.5         1.7        2\n",
              "3          4.9         3.1          1.5         0.1        0\n",
              "4          5.7         3.8          1.7         0.3        0"
            ]
          },
          "metadata": {
            "tags": []
          },
          "execution_count": 28
        }
      ]
    },
    {
      "cell_type": "code",
      "metadata": {
        "colab": {
          "base_uri": "https://localhost:8080/"
        },
        "id": "dRK7GYyU2PsX",
        "outputId": "a15c9fdf-f292-433b-99bb-5f94a4116064"
      },
      "source": [
        "train_y = train.pop('Species')\n",
        "test_y = test.pop('Species')\n",
        "\n",
        "train.shape"
      ],
      "execution_count": 29,
      "outputs": [
        {
          "output_type": "execute_result",
          "data": {
            "text/plain": [
              "(120, 4)"
            ]
          },
          "metadata": {
            "tags": []
          },
          "execution_count": 29
        }
      ]
    },
    {
      "cell_type": "code",
      "metadata": {
        "id": "Hvf4JdbU2iwJ"
      },
      "source": [
        "def input_fn(features, labels, training=True, batch_size=256):\n",
        "    # Convert the inputs to a Dataset.\n",
        "    dataset = tf.data.Dataset.from_tensor_slices((dict(features), labels))\n",
        "\n",
        "    # Shuffle and repeat if you are in training mode.\n",
        "    if training:\n",
        "        dataset = dataset.shuffle(1000).repeat()\n",
        "    \n",
        "    return dataset.batch(batch_size)"
      ],
      "execution_count": 30,
      "outputs": []
    },
    {
      "cell_type": "code",
      "metadata": {
        "colab": {
          "base_uri": "https://localhost:8080/"
        },
        "id": "pEN5sgad3IZd",
        "outputId": "3bbe81ee-152e-4eff-d502-08fb7626e9f5"
      },
      "source": [
        "train.keys()"
      ],
      "execution_count": 31,
      "outputs": [
        {
          "output_type": "execute_result",
          "data": {
            "text/plain": [
              "Index(['SepalLength', 'SepalWidth', 'PetalLength', 'PetalWidth'], dtype='object')"
            ]
          },
          "metadata": {
            "tags": []
          },
          "execution_count": 31
        }
      ]
    },
    {
      "cell_type": "code",
      "metadata": {
        "colab": {
          "base_uri": "https://localhost:8080/"
        },
        "id": "wKLJvSHm3eDA",
        "outputId": "0fe31252-0ceb-4322-93ff-f01d10a6db33"
      },
      "source": [
        "my_feature_columns = []\n",
        "for key in train.keys():\n",
        "    my_feature_columns.append(tf.feature_column.numeric_column(key=key))\n",
        "print(my_feature_columns)"
      ],
      "execution_count": 32,
      "outputs": [
        {
          "output_type": "stream",
          "text": [
            "[NumericColumn(key='SepalLength', shape=(1,), default_value=None, dtype=tf.float32, normalizer_fn=None), NumericColumn(key='SepalWidth', shape=(1,), default_value=None, dtype=tf.float32, normalizer_fn=None), NumericColumn(key='PetalLength', shape=(1,), default_value=None, dtype=tf.float32, normalizer_fn=None), NumericColumn(key='PetalWidth', shape=(1,), default_value=None, dtype=tf.float32, normalizer_fn=None)]\n"
          ],
          "name": "stdout"
        }
      ]
    },
    {
      "cell_type": "code",
      "metadata": {
        "id": "try99mmL3kL-"
      },
      "source": [
        "classifier = tf.estimator.DNNClassifier(\n",
        "    feature_columns=my_feature_columns,\n",
        "    # Three hidden layers of 20 and 30 and 10 nodes respectively.\n",
        "    hidden_units=(20,30, 10),\n",
        "    # The model must choose between 3 classes.\n",
        "    n_classes=3)\n",
        "clear_output()"
      ],
      "execution_count": 33,
      "outputs": []
    },
    {
      "cell_type": "code",
      "metadata": {
        "colab": {
          "base_uri": "https://localhost:8080/"
        },
        "id": "nuOf5DgU4Wcb",
        "outputId": "3f83fc63-95dc-474e-a968-8475676b2536"
      },
      "source": [
        "classifier.train(\n",
        "    input_fn=lambda: input_fn(train, train_y, training=True),\n",
        "    steps=5000)\n",
        "# We include a lambda to avoid creating an inner function previously"
      ],
      "execution_count": 34,
      "outputs": [
        {
          "output_type": "stream",
          "text": [
            "INFO:tensorflow:Calling model_fn.\n",
            "INFO:tensorflow:Done calling model_fn.\n",
            "INFO:tensorflow:Create CheckpointSaverHook.\n",
            "INFO:tensorflow:Graph was finalized.\n",
            "INFO:tensorflow:Running local_init_op.\n",
            "INFO:tensorflow:Done running local_init_op.\n",
            "INFO:tensorflow:Calling checkpoint listeners before saving checkpoint 0...\n",
            "INFO:tensorflow:Saving checkpoints for 0 into /tmp/tmpf7jmthq4/model.ckpt.\n",
            "INFO:tensorflow:Calling checkpoint listeners after saving checkpoint 0...\n",
            "INFO:tensorflow:loss = 1.2939639, step = 0\n",
            "INFO:tensorflow:global_step/sec: 484.071\n",
            "INFO:tensorflow:loss = 1.0682521, step = 100 (0.208 sec)\n",
            "INFO:tensorflow:global_step/sec: 641.285\n",
            "INFO:tensorflow:loss = 1.0238295, step = 200 (0.158 sec)\n",
            "INFO:tensorflow:global_step/sec: 545.72\n",
            "INFO:tensorflow:loss = 0.99512684, step = 300 (0.183 sec)\n",
            "INFO:tensorflow:global_step/sec: 603.3\n",
            "INFO:tensorflow:loss = 0.96089387, step = 400 (0.166 sec)\n",
            "INFO:tensorflow:global_step/sec: 613.889\n",
            "INFO:tensorflow:loss = 0.92482805, step = 500 (0.164 sec)\n",
            "INFO:tensorflow:global_step/sec: 658.114\n",
            "INFO:tensorflow:loss = 0.8981607, step = 600 (0.151 sec)\n",
            "INFO:tensorflow:global_step/sec: 621.872\n",
            "INFO:tensorflow:loss = 0.882635, step = 700 (0.161 sec)\n",
            "INFO:tensorflow:global_step/sec: 630.85\n",
            "INFO:tensorflow:loss = 0.85748523, step = 800 (0.159 sec)\n",
            "INFO:tensorflow:global_step/sec: 649.775\n",
            "INFO:tensorflow:loss = 0.8341888, step = 900 (0.154 sec)\n",
            "INFO:tensorflow:global_step/sec: 532.651\n",
            "INFO:tensorflow:loss = 0.8149535, step = 1000 (0.185 sec)\n",
            "INFO:tensorflow:global_step/sec: 588.627\n",
            "INFO:tensorflow:loss = 0.81016904, step = 1100 (0.170 sec)\n",
            "INFO:tensorflow:global_step/sec: 569.337\n",
            "INFO:tensorflow:loss = 0.7828982, step = 1200 (0.179 sec)\n",
            "INFO:tensorflow:global_step/sec: 592.657\n",
            "INFO:tensorflow:loss = 0.78073317, step = 1300 (0.168 sec)\n",
            "INFO:tensorflow:global_step/sec: 578.559\n",
            "INFO:tensorflow:loss = 0.75950474, step = 1400 (0.175 sec)\n",
            "INFO:tensorflow:global_step/sec: 621.204\n",
            "INFO:tensorflow:loss = 0.7331735, step = 1500 (0.162 sec)\n",
            "INFO:tensorflow:global_step/sec: 589.107\n",
            "INFO:tensorflow:loss = 0.721316, step = 1600 (0.163 sec)\n",
            "INFO:tensorflow:global_step/sec: 627.942\n",
            "INFO:tensorflow:loss = 0.7163369, step = 1700 (0.159 sec)\n",
            "INFO:tensorflow:global_step/sec: 641.636\n",
            "INFO:tensorflow:loss = 0.6856364, step = 1800 (0.156 sec)\n",
            "INFO:tensorflow:global_step/sec: 659.922\n",
            "INFO:tensorflow:loss = 0.6699186, step = 1900 (0.155 sec)\n",
            "INFO:tensorflow:global_step/sec: 599.858\n",
            "INFO:tensorflow:loss = 0.6441039, step = 2000 (0.164 sec)\n",
            "INFO:tensorflow:global_step/sec: 595.167\n",
            "INFO:tensorflow:loss = 0.64713186, step = 2100 (0.168 sec)\n",
            "INFO:tensorflow:global_step/sec: 598.778\n",
            "INFO:tensorflow:loss = 0.6429188, step = 2200 (0.171 sec)\n",
            "INFO:tensorflow:global_step/sec: 624.524\n",
            "INFO:tensorflow:loss = 0.63062644, step = 2300 (0.159 sec)\n",
            "INFO:tensorflow:global_step/sec: 614.263\n",
            "INFO:tensorflow:loss = 0.6136006, step = 2400 (0.163 sec)\n",
            "INFO:tensorflow:global_step/sec: 598.096\n",
            "INFO:tensorflow:loss = 0.6093083, step = 2500 (0.166 sec)\n",
            "INFO:tensorflow:global_step/sec: 602.916\n",
            "INFO:tensorflow:loss = 0.6070795, step = 2600 (0.166 sec)\n",
            "INFO:tensorflow:global_step/sec: 631.116\n",
            "INFO:tensorflow:loss = 0.5844641, step = 2700 (0.158 sec)\n",
            "INFO:tensorflow:global_step/sec: 610.287\n",
            "INFO:tensorflow:loss = 0.5749698, step = 2800 (0.164 sec)\n",
            "INFO:tensorflow:global_step/sec: 574.876\n",
            "INFO:tensorflow:loss = 0.5618956, step = 2900 (0.172 sec)\n",
            "INFO:tensorflow:global_step/sec: 636.079\n",
            "INFO:tensorflow:loss = 0.5661695, step = 3000 (0.160 sec)\n",
            "INFO:tensorflow:global_step/sec: 622.935\n",
            "INFO:tensorflow:loss = 0.5584531, step = 3100 (0.161 sec)\n",
            "INFO:tensorflow:global_step/sec: 636.75\n",
            "INFO:tensorflow:loss = 0.5458417, step = 3200 (0.157 sec)\n",
            "INFO:tensorflow:global_step/sec: 605.937\n",
            "INFO:tensorflow:loss = 0.5385437, step = 3300 (0.166 sec)\n",
            "INFO:tensorflow:global_step/sec: 603.332\n",
            "INFO:tensorflow:loss = 0.53991425, step = 3400 (0.164 sec)\n",
            "INFO:tensorflow:global_step/sec: 607.435\n",
            "INFO:tensorflow:loss = 0.5104679, step = 3500 (0.166 sec)\n",
            "INFO:tensorflow:global_step/sec: 594.261\n",
            "INFO:tensorflow:loss = 0.5181043, step = 3600 (0.168 sec)\n",
            "INFO:tensorflow:global_step/sec: 610.414\n",
            "INFO:tensorflow:loss = 0.4972384, step = 3700 (0.163 sec)\n",
            "INFO:tensorflow:global_step/sec: 640.769\n",
            "INFO:tensorflow:loss = 0.50405455, step = 3800 (0.157 sec)\n",
            "INFO:tensorflow:global_step/sec: 580.55\n",
            "INFO:tensorflow:loss = 0.5010135, step = 3900 (0.172 sec)\n",
            "INFO:tensorflow:global_step/sec: 594.532\n",
            "INFO:tensorflow:loss = 0.48135138, step = 4000 (0.166 sec)\n",
            "INFO:tensorflow:global_step/sec: 590.033\n",
            "INFO:tensorflow:loss = 0.48494822, step = 4100 (0.173 sec)\n",
            "INFO:tensorflow:global_step/sec: 594.701\n",
            "INFO:tensorflow:loss = 0.48434782, step = 4200 (0.168 sec)\n",
            "INFO:tensorflow:global_step/sec: 612.748\n",
            "INFO:tensorflow:loss = 0.4682036, step = 4300 (0.163 sec)\n",
            "INFO:tensorflow:global_step/sec: 607.117\n",
            "INFO:tensorflow:loss = 0.48083803, step = 4400 (0.165 sec)\n",
            "INFO:tensorflow:global_step/sec: 635.376\n",
            "INFO:tensorflow:loss = 0.46774098, step = 4500 (0.157 sec)\n",
            "INFO:tensorflow:global_step/sec: 608.851\n",
            "INFO:tensorflow:loss = 0.44581747, step = 4600 (0.164 sec)\n",
            "INFO:tensorflow:global_step/sec: 598.269\n",
            "INFO:tensorflow:loss = 0.46816647, step = 4700 (0.166 sec)\n",
            "INFO:tensorflow:global_step/sec: 665.888\n",
            "INFO:tensorflow:loss = 0.44179758, step = 4800 (0.148 sec)\n",
            "INFO:tensorflow:global_step/sec: 645.944\n",
            "INFO:tensorflow:loss = 0.45700696, step = 4900 (0.155 sec)\n",
            "INFO:tensorflow:Calling checkpoint listeners before saving checkpoint 5000...\n",
            "INFO:tensorflow:Saving checkpoints for 5000 into /tmp/tmpf7jmthq4/model.ckpt.\n",
            "INFO:tensorflow:Calling checkpoint listeners after saving checkpoint 5000...\n",
            "INFO:tensorflow:Loss for final step: 0.446075.\n"
          ],
          "name": "stdout"
        },
        {
          "output_type": "execute_result",
          "data": {
            "text/plain": [
              "<tensorflow_estimator.python.estimator.canned.dnn.DNNClassifierV2 at 0x7ff373c8e950>"
            ]
          },
          "metadata": {
            "tags": []
          },
          "execution_count": 34
        }
      ]
    },
    {
      "cell_type": "code",
      "metadata": {
        "colab": {
          "base_uri": "https://localhost:8080/"
        },
        "id": "RaKQHSBT486E",
        "outputId": "24728822-8e19-4135-b218-ee9a4e481a18"
      },
      "source": [
        "eval_result = classifier.evaluate(\n",
        "    input_fn=lambda: input_fn(test, test_y, training=False))\n",
        "\n",
        "print('\\nTest set accuracy: {accuracy:0.3f}\\n'.format(**eval_result))"
      ],
      "execution_count": 35,
      "outputs": [
        {
          "output_type": "stream",
          "text": [
            "INFO:tensorflow:Calling model_fn.\n",
            "INFO:tensorflow:Done calling model_fn.\n",
            "INFO:tensorflow:Starting evaluation at 2021-05-16T06:50:03Z\n",
            "INFO:tensorflow:Graph was finalized.\n",
            "INFO:tensorflow:Restoring parameters from /tmp/tmpf7jmthq4/model.ckpt-5000\n",
            "INFO:tensorflow:Running local_init_op.\n",
            "INFO:tensorflow:Done running local_init_op.\n",
            "INFO:tensorflow:Inference Time : 0.20428s\n",
            "INFO:tensorflow:Finished evaluation at 2021-05-16-06:50:03\n",
            "INFO:tensorflow:Saving dict for global step 5000: accuracy = 0.7, average_loss = 0.52417874, global_step = 5000, loss = 0.52417874\n",
            "INFO:tensorflow:Saving 'checkpoint_path' summary for global step 5000: /tmp/tmpf7jmthq4/model.ckpt-5000\n",
            "\n",
            "Test set accuracy: 0.700\n",
            "\n"
          ],
          "name": "stdout"
        }
      ]
    },
    {
      "cell_type": "code",
      "metadata": {
        "id": "lVHfcg2F5pRb"
      },
      "source": [
        "def input_fn(features, batch_size=256):\n",
        "    # Convert the inputs to a Dataset without labels.\n",
        "    return tf.data.Dataset.from_tensor_slices(dict(features)).batch(batch_size)"
      ],
      "execution_count": 36,
      "outputs": []
    },
    {
      "cell_type": "code",
      "metadata": {
        "id": "WdC4-OhI7WhF"
      },
      "source": [
        "expected = ['Setosa', 'Versicolor', 'Virginica']\n",
        "predict_x = {\n",
        "    'SepalLength': [5.1, 5.9, 6.9],\n",
        "    'SepalWidth': [3.3, 3.0, 3.1],\n",
        "    'PetalLength': [1.7, 4.2, 5.4],\n",
        "    'PetalWidth': [0.5, 1.5, 2.1],\n",
        "}"
      ],
      "execution_count": 37,
      "outputs": []
    },
    {
      "cell_type": "code",
      "metadata": {
        "colab": {
          "base_uri": "https://localhost:8080/"
        },
        "id": "odoY8yWI7v7g",
        "outputId": "d6736a71-ba68-4db7-a306-a367bdc40b05"
      },
      "source": [
        "predictions = classifier.predict(input_fn=lambda: input_fn(predict_x))\n",
        "for pred_dict in predictions:\n",
        "  print(pred_dict)\n",
        "\n",
        "predictions = classifier.predict(input_fn=lambda: input_fn(predict_x))\n",
        "for pred_dict in predictions:\n",
        "    class_id = pred_dict['class_ids'][0]\n",
        "    probability = pred_dict['probabilities'][class_id]\n",
        "\n",
        "    print('Prediction is \"{}\" ({:.1f}%)'.format(\n",
        "        SPECIES[class_id], 100 * probability))"
      ],
      "execution_count": 42,
      "outputs": [
        {
          "output_type": "stream",
          "text": [
            "INFO:tensorflow:Calling model_fn.\n",
            "INFO:tensorflow:Done calling model_fn.\n",
            "INFO:tensorflow:Graph was finalized.\n",
            "INFO:tensorflow:Restoring parameters from /tmp/tmpf7jmthq4/model.ckpt-5000\n",
            "INFO:tensorflow:Running local_init_op.\n",
            "INFO:tensorflow:Done running local_init_op.\n",
            "{'logits': array([ 2.4480145 ,  0.46274915, -0.43001953], dtype=float32), 'probabilities': array([0.8378091 , 0.11506819, 0.04712276], dtype=float32), 'class_ids': array([0]), 'classes': array([b'0'], dtype=object), 'all_class_ids': array([0, 1, 2], dtype=int32), 'all_classes': array([b'0', b'1', b'2'], dtype=object)}\n",
            "{'logits': array([-0.44456133,  1.4719027 ,  1.4148048 ], dtype=float32), 'probabilities': array([0.07034056, 0.47809651, 0.4515629 ], dtype=float32), 'class_ids': array([1]), 'classes': array([b'1'], dtype=object), 'all_class_ids': array([0, 1, 2], dtype=int32), 'all_classes': array([b'0', b'1', b'2'], dtype=object)}\n",
            "{'logits': array([-1.759142 ,  1.7547351,  2.344736 ], dtype=float32), 'probabilities': array([0.0105094 , 0.35288662, 0.636604  ], dtype=float32), 'class_ids': array([2]), 'classes': array([b'2'], dtype=object), 'all_class_ids': array([0, 1, 2], dtype=int32), 'all_classes': array([b'0', b'1', b'2'], dtype=object)}\n",
            "INFO:tensorflow:Calling model_fn.\n",
            "INFO:tensorflow:Done calling model_fn.\n",
            "INFO:tensorflow:Graph was finalized.\n",
            "INFO:tensorflow:Restoring parameters from /tmp/tmpf7jmthq4/model.ckpt-5000\n",
            "INFO:tensorflow:Running local_init_op.\n",
            "INFO:tensorflow:Done running local_init_op.\n",
            "Prediction is \"Setosa\" (83.8%)\n",
            "Prediction is \"Versicolor\" (47.8%)\n",
            "Prediction is \"Virginica\" (63.7%)\n"
          ],
          "name": "stdout"
        }
      ]
    },
    {
      "cell_type": "code",
      "metadata": {
        "colab": {
          "base_uri": "https://localhost:8080/",
          "height": 142
        },
        "id": "a9IvwtEs79-t",
        "outputId": "23c6525f-3684-404e-9a1c-100aa8e60a40"
      },
      "source": [
        "pd.DataFrame({\n",
        "    'SepalLength': [5.1, 5.9, 6.9],\n",
        "    'SepalWidth': [3.3, 3.0, 3.1],\n",
        "    'PetalLength': [1.7, 4.2, 5.4],\n",
        "    'PetalWidth': [0.5, 1.5, 2.1],\n",
        "})"
      ],
      "execution_count": 43,
      "outputs": [
        {
          "output_type": "execute_result",
          "data": {
            "text/html": [
              "<div>\n",
              "<style scoped>\n",
              "    .dataframe tbody tr th:only-of-type {\n",
              "        vertical-align: middle;\n",
              "    }\n",
              "\n",
              "    .dataframe tbody tr th {\n",
              "        vertical-align: top;\n",
              "    }\n",
              "\n",
              "    .dataframe thead th {\n",
              "        text-align: right;\n",
              "    }\n",
              "</style>\n",
              "<table border=\"1\" class=\"dataframe\">\n",
              "  <thead>\n",
              "    <tr style=\"text-align: right;\">\n",
              "      <th></th>\n",
              "      <th>SepalLength</th>\n",
              "      <th>SepalWidth</th>\n",
              "      <th>PetalLength</th>\n",
              "      <th>PetalWidth</th>\n",
              "    </tr>\n",
              "  </thead>\n",
              "  <tbody>\n",
              "    <tr>\n",
              "      <th>0</th>\n",
              "      <td>5.1</td>\n",
              "      <td>3.3</td>\n",
              "      <td>1.7</td>\n",
              "      <td>0.5</td>\n",
              "    </tr>\n",
              "    <tr>\n",
              "      <th>1</th>\n",
              "      <td>5.9</td>\n",
              "      <td>3.0</td>\n",
              "      <td>4.2</td>\n",
              "      <td>1.5</td>\n",
              "    </tr>\n",
              "    <tr>\n",
              "      <th>2</th>\n",
              "      <td>6.9</td>\n",
              "      <td>3.1</td>\n",
              "      <td>5.4</td>\n",
              "      <td>2.1</td>\n",
              "    </tr>\n",
              "  </tbody>\n",
              "</table>\n",
              "</div>"
            ],
            "text/plain": [
              "   SepalLength  SepalWidth  PetalLength  PetalWidth\n",
              "0          5.1         3.3          1.7         0.5\n",
              "1          5.9         3.0          4.2         1.5\n",
              "2          6.9         3.1          5.4         2.1"
            ]
          },
          "metadata": {
            "tags": []
          },
          "execution_count": 43
        }
      ]
    },
    {
      "cell_type": "code",
      "metadata": {
        "id": "gMSbWHri9DQI"
      },
      "source": [
        ""
      ],
      "execution_count": null,
      "outputs": []
    }
  ]
}