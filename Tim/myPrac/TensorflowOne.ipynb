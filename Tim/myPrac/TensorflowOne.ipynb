{
  "nbformat": 4,
  "nbformat_minor": 0,
  "metadata": {
    "colab": {
      "name": "TensorflowOne.ipynb",
      "provenance": [],
      "collapsed_sections": []
    },
    "kernelspec": {
      "name": "python3",
      "display_name": "Python 3"
    },
    "language_info": {
      "name": "python"
    }
  },
  "cells": [
    {
      "cell_type": "code",
      "metadata": {
        "id": "hxGgllCzOcmA"
      },
      "source": [
        "%tensorflow_version 2.x"
      ],
      "execution_count": 1,
      "outputs": []
    },
    {
      "cell_type": "code",
      "metadata": {
        "colab": {
          "base_uri": "https://localhost:8080/"
        },
        "id": "M7E19hcePSBY",
        "outputId": "26083f5a-126e-46f7-def5-c90ac0b15f5c"
      },
      "source": [
        "import tensorflow as tf\n",
        "print(tf.version.VERSION)"
      ],
      "execution_count": 2,
      "outputs": [
        {
          "output_type": "stream",
          "text": [
            "2.4.1\n"
          ],
          "name": "stdout"
        }
      ]
    },
    {
      "cell_type": "code",
      "metadata": {
        "id": "Kvzu9RjCPcat"
      },
      "source": [
        "string = tf.Variable(\"this is a string\", tf.string) \n",
        "number = tf.Variable(324, tf.int16)\n",
        "floating = tf.Variable(3.567, tf.float64)"
      ],
      "execution_count": 3,
      "outputs": []
    },
    {
      "cell_type": "code",
      "metadata": {
        "colab": {
          "base_uri": "https://localhost:8080/"
        },
        "id": "i6qXgpkrRHVK",
        "outputId": "c1fe1137-5fa3-4dfd-e7d3-34bfd26d7875"
      },
      "source": [
        "print(string,string.shape,type(string))\n",
        "print(number,number.shape,type(number))\n",
        "print(floating,floating.shape,type(floating),tf.rank(floating))"
      ],
      "execution_count": 4,
      "outputs": [
        {
          "output_type": "stream",
          "text": [
            "<tf.Variable 'Variable:0' shape=() dtype=string, numpy=b'this is a string'> () <class 'tensorflow.python.ops.resource_variable_ops.ResourceVariable'>\n",
            "<tf.Variable 'Variable:0' shape=() dtype=int32, numpy=324> () <class 'tensorflow.python.ops.resource_variable_ops.ResourceVariable'>\n",
            "<tf.Variable 'Variable:0' shape=() dtype=float32, numpy=3.567> () <class 'tensorflow.python.ops.resource_variable_ops.ResourceVariable'> tf.Tensor(0, shape=(), dtype=int32)\n"
          ],
          "name": "stdout"
        }
      ]
    },
    {
      "cell_type": "code",
      "metadata": {
        "colab": {
          "base_uri": "https://localhost:8080/"
        },
        "id": "0kQ_pxtNRcnx",
        "outputId": "88da7dbe-7099-4782-fc30-f7a204f1c974"
      },
      "source": [
        "rank_tensor=tf.Variable([\n",
        "                         [\n",
        "                          [1,2,3],[4,5,6],[7,8,9]\n",
        "                         ],[\n",
        "                            [10,11,12],[13,14,15],[16,17,18]\n",
        "                         ],[\n",
        "                            [20,21,22],[23,24,25],[26,27,28]\n",
        "                         ]\n",
        "],tf.int32)\n",
        "rank1_tensor = tf.Variable([\"Test\",\"pritam\"], tf.string) \n",
        "rank2_tensor = tf.Variable([[\"test\", \"ok\"], [\"test\", \"yes\"]], tf.string)\n",
        "rank3_tensor = tf.Variable(\"abc\",tf.string)\n",
        "print(tf.rank(rank3_tensor),rank3_tensor.shape)\n",
        "print(tf.rank(rank1_tensor),rank1_tensor.shape)\n",
        "print(tf.rank(rank2_tensor),rank2_tensor.shape)\n",
        "print(tf.rank(rank_tensor),rank_tensor.shape)"
      ],
      "execution_count": 5,
      "outputs": [
        {
          "output_type": "stream",
          "text": [
            "tf.Tensor(0, shape=(), dtype=int32) ()\n",
            "tf.Tensor(1, shape=(), dtype=int32) (2,)\n",
            "tf.Tensor(2, shape=(), dtype=int32) (2, 2)\n",
            "tf.Tensor(3, shape=(), dtype=int32) (3, 3, 3)\n"
          ],
          "name": "stdout"
        }
      ]
    },
    {
      "cell_type": "code",
      "metadata": {
        "id": "Cv1KIEe_SKtO"
      },
      "source": [
        "# we can algo shapes in tuples (x,y,z,....)\n",
        "tensor1 = tf.ones([1,2,3])  # tf.ones() creates a shape [1,2,3] tensor full of ones\n",
        "tensor2 = tf.reshape(tensor1, [2,3,1])  # reshape existing data to shape [2,3,1]\n",
        "tensor3 = tf.reshape(tensor2, [3, -1])  # -1 tells the tensor to calculate the size of the dimension in that place\n",
        "                                        # this will reshape the tensor to [3,3]\n",
        "                                                                             \n",
        "# The numer of elements in the reshaped tensor MUST match the number in the original"
      ],
      "execution_count": 6,
      "outputs": []
    },
    {
      "cell_type": "code",
      "metadata": {
        "colab": {
          "base_uri": "https://localhost:8080/"
        },
        "id": "xJneH0r2VyVi",
        "outputId": "8e0f3412-0a63-4881-f873-d3b468871252"
      },
      "source": [
        "print(tensor1)\n",
        "print(tensor2)\n",
        "print(tensor3)\n",
        "# Notice the changes in shape"
      ],
      "execution_count": 7,
      "outputs": [
        {
          "output_type": "stream",
          "text": [
            "tf.Tensor(\n",
            "[[[1. 1. 1.]\n",
            "  [1. 1. 1.]]], shape=(1, 2, 3), dtype=float32)\n",
            "tf.Tensor(\n",
            "[[[1.]\n",
            "  [1.]\n",
            "  [1.]]\n",
            "\n",
            " [[1.]\n",
            "  [1.]\n",
            "  [1.]]], shape=(2, 3, 1), dtype=float32)\n",
            "tf.Tensor(\n",
            "[[1. 1.]\n",
            " [1. 1.]\n",
            " [1. 1.]], shape=(3, 2), dtype=float32)\n"
          ],
          "name": "stdout"
        }
      ]
    },
    {
      "cell_type": "code",
      "metadata": {
        "colab": {
          "base_uri": "https://localhost:8080/"
        },
        "id": "LGfugvZxVzBI",
        "outputId": "5f956896-3b5c-4fcb-d76b-e942de09b1fc"
      },
      "source": [
        "%timeit z=tf.zeros([5,5,5,5,5])"
      ],
      "execution_count": 8,
      "outputs": [
        {
          "output_type": "stream",
          "text": [
            "The slowest run took 18.42 times longer than the fastest. This could mean that an intermediate result is being cached.\n",
            "10000 loops, best of 5: 41.7 µs per loop\n"
          ],
          "name": "stdout"
        }
      ]
    },
    {
      "cell_type": "code",
      "metadata": {
        "colab": {
          "base_uri": "https://localhost:8080/"
        },
        "id": "y9hj-dfkanFC",
        "outputId": "286ab41d-c644-4dd8-8518-6fc9ffed3273"
      },
      "source": [
        "z=tf.zeros([5,5,5,5,5])\n",
        "t=tf.reshape(z,(625*5,))\n",
        "print(t)"
      ],
      "execution_count": 9,
      "outputs": [
        {
          "output_type": "stream",
          "text": [
            "tf.Tensor([0. 0. 0. ... 0. 0. 0.], shape=(3125,), dtype=float32)\n"
          ],
          "name": "stdout"
        }
      ]
    },
    {
      "cell_type": "code",
      "metadata": {
        "id": "902et9sJbMtc",
        "colab": {
          "base_uri": "https://localhost:8080/"
        },
        "outputId": "1e46161a-c337-4e0f-8ac4-745c3bff5bd7"
      },
      "source": [
        "# Creating a 2D tensor\n",
        "matrix = [[1,2,3,4,5],\n",
        "          [6,7,8,9,10],\n",
        "          [11,12,13,14,15],\n",
        "          [16,17,18,19,20]]\n",
        "\n",
        "tensor = tf.Variable(matrix, dtype=tf.int32) \n",
        "print(tf.rank(tensor))\n",
        "print(tensor.shape)"
      ],
      "execution_count": 10,
      "outputs": [
        {
          "output_type": "stream",
          "text": [
            "tf.Tensor(2, shape=(), dtype=int32)\n",
            "(4, 5)\n"
          ],
          "name": "stdout"
        }
      ]
    },
    {
      "cell_type": "code",
      "metadata": {
        "colab": {
          "base_uri": "https://localhost:8080/"
        },
        "id": "TBj5TMrtz7f1",
        "outputId": "42f69bac-50be-4dc5-f291-7203c1db8de3"
      },
      "source": [
        "tensor[::2,::2]"
      ],
      "execution_count": 11,
      "outputs": [
        {
          "output_type": "execute_result",
          "data": {
            "text/plain": [
              "<tf.Tensor: shape=(2, 3), dtype=int32, numpy=\n",
              "array([[ 1,  3,  5],\n",
              "       [11, 13, 15]], dtype=int32)>"
            ]
          },
          "metadata": {
            "tags": []
          },
          "execution_count": 11
        }
      ]
    },
    {
      "cell_type": "code",
      "metadata": {
        "colab": {
          "base_uri": "https://localhost:8080/"
        },
        "id": "wVsAeVll0UuH",
        "outputId": "8064849a-cf53-4e6c-a394-261a8d2b0cb2"
      },
      "source": [
        "x=tf.ones((5,5,5,5))\n",
        "x[::3,::3,::3,::3]"
      ],
      "execution_count": 12,
      "outputs": [
        {
          "output_type": "execute_result",
          "data": {
            "text/plain": [
              "<tf.Tensor: shape=(2, 2, 2, 2), dtype=float32, numpy=\n",
              "array([[[[1., 1.],\n",
              "         [1., 1.]],\n",
              "\n",
              "        [[1., 1.],\n",
              "         [1., 1.]]],\n",
              "\n",
              "\n",
              "       [[[1., 1.],\n",
              "         [1., 1.]],\n",
              "\n",
              "        [[1., 1.],\n",
              "         [1., 1.]]]], dtype=float32)>"
            ]
          },
          "metadata": {
            "tags": []
          },
          "execution_count": 12
        }
      ]
    },
    {
      "cell_type": "code",
      "metadata": {
        "id": "8hyzeqyA1Spo"
      },
      "source": [
        ""
      ],
      "execution_count": 12,
      "outputs": []
    },
    {
      "cell_type": "code",
      "metadata": {
        "id": "cIDz0N9f19pX"
      },
      "source": [
        ""
      ],
      "execution_count": 12,
      "outputs": []
    }
  ]
}